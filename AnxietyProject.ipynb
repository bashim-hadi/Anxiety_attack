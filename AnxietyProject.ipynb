{
  "nbformat": 4,
  "nbformat_minor": 0,
  "metadata": {
    "colab": {
      "private_outputs": true,
      "provenance": []
    },
    "kernelspec": {
      "name": "python3",
      "display_name": "Python 3"
    },
    "language_info": {
      "name": "python"
    }
  },
  "cells": [
    {
      "cell_type": "code",
      "execution_count": null,
      "metadata": {
        "id": "FhXpd0IXn5Jh"
      },
      "outputs": [],
      "source": [
        "from google.colab import files\n",
        "uploaded = files.upload()"
      ]
    },
    {
      "cell_type": "code",
      "source": [
        "import pandas as pd\n",
        "df=pd.read_csv(\"anxiety_attack_dataset.csv\")\n",
        "print(df)"
      ],
      "metadata": {
        "id": "o6S7hPl2UrUw"
      },
      "execution_count": null,
      "outputs": []
    },
    {
      "cell_type": "code",
      "source": [
        "df.head()"
      ],
      "metadata": {
        "id": "sFC-7GbAdi-b"
      },
      "execution_count": null,
      "outputs": []
    },
    {
      "cell_type": "code",
      "source": [
        "df.info()"
      ],
      "metadata": {
        "id": "rrQ3ZH9fdoxH"
      },
      "execution_count": null,
      "outputs": []
    },
    {
      "cell_type": "code",
      "source": [
        "print(df.isnull().sum())"
      ],
      "metadata": {
        "id": "iCoYSsY01kMe"
      },
      "execution_count": null,
      "outputs": []
    },
    {
      "cell_type": "code",
      "source": [
        "df.describe()"
      ],
      "metadata": {
        "id": "6j1PVikldwLM"
      },
      "execution_count": null,
      "outputs": []
    },
    {
      "cell_type": "code",
      "source": [
        "plt.figure(figsize=(10,6))\n",
        "sns.lineplot(data=df,x=\"Occupation\",y=\"Sleep Hours\",hue=\"Gender\",marker=\"o\")\n",
        "plt.title(\"Occupation vs Sleep Hour\")\n",
        "plt.xlabel(\"Occuoation\")\n",
        "plt.ylabel(\"Sleep Hours\")\n",
        "plt.grid(True)\n",
        "plt.show()"
      ],
      "metadata": {
        "id": "Ynec5l-1VPFf"
      },
      "execution_count": null,
      "outputs": []
    },
    {
      "cell_type": "code",
      "source": [
        "avg_sleep_hrs=df.groupby(\"Gender\")[\"Sleep Hours\"].mean().reset_index()\n",
        "plt.figure(figsize=(8,5))\n",
        "sns.barplot(data=avg_sleep_hrs,x=\"Gender\",y=\"Sleep Hours\",palette=\"pastel\")\n",
        "plt.title(\"Avg Sepal length by species\")\n",
        "plt.xlabel(\"species\")\n",
        "plt.ylabel(\"Avg sepal length (cm)\")\n",
        "plt.show()"
      ],
      "metadata": {
        "id": "QOfjUOoeVutP"
      },
      "execution_count": null,
      "outputs": []
    },
    {
      "cell_type": "code",
      "source": [
        "plt.figure(figsize=(10,6))\n",
        "sns.scatterplot(data=df,x=\"Occupation\",y=\"Sleep Hours\",hue=\"Gender\",marker=\"o\")\n",
        "plt.title(\"Occupation vs Sleep Hour\")\n",
        "plt.xlabel(\"Occuoation\")\n",
        "plt.ylabel(\"Sleep Hours\")\n",
        "plt.grid(True)\n",
        "plt.show()"
      ],
      "metadata": {
        "id": "3Rjp8JPJYKEu"
      },
      "execution_count": null,
      "outputs": []
    },
    {
      "cell_type": "code",
      "source": [
        "import pandas as pd\n",
        "df=pd.read_csv('anxiety_attack_dataset.csv')\n",
        "plt.figure(figsize=(10,6))\n",
        "sns.histplot(data=df,x=\"Sleep Hours\",hue=\"Occupation\",bins=15)\n",
        "plt.title(\"Histogram for Sleep Hours vs Occupation\")\n",
        "plt.xlabel(\"Sleep Hours\")\n",
        "plt.ylabel(\"Occupation\")\n",
        "plt.grid(True)\n",
        "plt.show()"
      ],
      "metadata": {
        "id": "C6BxmALoaf5s"
      },
      "execution_count": null,
      "outputs": []
    },
    {
      "cell_type": "code",
      "source": [
        "numeric_values=df.select_dtypes(include=[\"float64\",\"int64\"])\n",
        "corr_matrix=numeric_values.corr()\n",
        "print(corr_matrix)"
      ],
      "metadata": {
        "id": "gKwA5DMybPJp"
      },
      "execution_count": null,
      "outputs": []
    },
    {
      "cell_type": "code",
      "source": [
        "plt.figure(figsize=(10,6))\n",
        "sns.heatmap(corr_matrix,annot=True,cmap=\"rocket\",fmt=\".2f\")\n",
        "plt.title(\"Heatmap\")\n",
        "plt.show()"
      ],
      "metadata": {
        "id": "FIYGHjSVbVs6"
      },
      "execution_count": null,
      "outputs": []
    }
  ]
}